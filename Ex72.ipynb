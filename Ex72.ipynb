{
  "nbformat": 4,
  "nbformat_minor": 0,
  "metadata": {
    "colab": {
      "provenance": [],
      "authorship_tag": "ABX9TyPHTBpKlj421eqGbLna/1cV",
      "include_colab_link": true
    },
    "kernelspec": {
      "name": "python3",
      "display_name": "Python 3"
    },
    "language_info": {
      "name": "python"
    }
  },
  "cells": [
    {
      "cell_type": "markdown",
      "metadata": {
        "id": "view-in-github",
        "colab_type": "text"
      },
      "source": [
        "<a href=\"https://colab.research.google.com/github/nnh92/Ex72/blob/main/Ex72.ipynb\" target=\"_parent\"><img src=\"https://colab.research.google.com/assets/colab-badge.svg\" alt=\"Open In Colab\"/></a>"
      ]
    },
    {
      "cell_type": "code",
      "execution_count": 8,
      "metadata": {
        "id": "B9IUyzPai2sF",
        "outputId": "0d5544ce-fc05-4423-995c-6b912e0022a7",
        "colab": {
          "base_uri": "https://localhost:8080/"
        }
      },
      "outputs": [
        {
          "name": "stdout",
          "output_type": "stream",
          "text": [
            "Dh ¥7 gh6 78 )( g hf9\n"
          ]
        },
        {
          "output_type": "execute_result",
          "data": {
            "text/plain": [
              "['gh6', 'hf9']"
            ]
          },
          "metadata": {},
          "execution_count": 8
        }
      ],
      "source": [
        "def Xu_Ly_DL(s):\n",
        "  lst = []\n",
        "  s = s.split()\n",
        "  for i in s:\n",
        "    isNum = False\n",
        "    isSym = False\n",
        "    for j in s[s.index(i)]:\n",
        "      if j.isnumeric():\n",
        "        isNum = True\n",
        "      if j.isalpha():\n",
        "        isSym = True\n",
        "    if isNum == True and isSym == True:\n",
        "      lst.append(i)\n",
        "  return lst\n",
        "\n",
        "s = input()\n",
        "\n",
        "Xu_Ly_DL(s)\n",
        "\n",
        "\n",
        "\n",
        "\n",
        "\n"
      ]
    }
  ]
}